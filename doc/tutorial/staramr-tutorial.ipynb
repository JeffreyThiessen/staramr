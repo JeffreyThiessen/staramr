{
 "cells": [
  {
   "cell_type": "markdown",
   "metadata": {},
   "source": [
    "# Tutorial\n",
    "\n",
    "This tutorial will walk you through running `staramr` on some example genomes to investigate AMR genes and point mutations.  The data we will use are two RefSeq assemblies that are available on NCBI: [GCF_001478105.1](https://www.ncbi.nlm.nih.gov/assembly/GCA_001478105.1) and [GCF_001931595.1](https://www.ncbi.nlm.nih.gov/assembly/GCA_001931595.1).\n",
    "\n",
    "## Step 1: Download input files\n",
    "\n",
    "You may download the input files with the following commands:"
   ]
  },
  {
   "cell_type": "code",
   "execution_count": 1,
   "metadata": {},
   "outputs": [
    {
     "name": "stdout",
     "output_type": "stream",
     "text": [
      "--2018-06-08 10:03:20--  ftp://ftp.ncbi.nlm.nih.gov/genomes/all/GCF/001/478/105/GCF_001478105.1_Salmonella_enterica_CVM_N31384-SQ_v1.0/GCF_001478105.1_Salmonella_enterica_CVM_N31384-SQ_v1.0_genomic.fna.gz\n",
      "           => ‘GCF_001478105.1.fasta.gz’\n",
      "Resolving ftp.ncbi.nlm.nih.gov (ftp.ncbi.nlm.nih.gov)... 130.14.250.7, 2607:f220:41e:250::7\n",
      "Connecting to ftp.ncbi.nlm.nih.gov (ftp.ncbi.nlm.nih.gov)|130.14.250.7|:21... connected.\n",
      "Logging in as anonymous ... Logged in!\n",
      "==> SYST ... done.    ==> PWD ... done.\n",
      "==> TYPE I ... done.  ==> CWD (1) /genomes/all/GCF/001/478/105/GCF_001478105.1_Salmonella_enterica_CVM_N31384-SQ_v1.0 ... done.\n",
      "==> SIZE GCF_001478105.1_Salmonella_enterica_CVM_N31384-SQ_v1.0_genomic.fna.gz ... 1454519\n",
      "==> PASV ... done.    ==> RETR GCF_001478105.1_Salmonella_enterica_CVM_N31384-SQ_v1.0_genomic.fna.gz ... done.\n",
      "Length: 1454519 (1.4M) (unauthoritative)\n",
      "\n",
      "GCF_001478105.1_Sal 100%[===================>]   1.39M  5.91MB/s    in 0.2s    \n",
      "\n",
      "2018-06-08 10:03:21 (5.91 MB/s) - ‘GCF_001478105.1.fasta.gz’ saved [1454519]\n",
      "\n",
      "--2018-06-08 10:03:21--  ftp://ftp.ncbi.nlm.nih.gov/genomes/all/GCF/001/931/595/GCF_001931595.1_ASM193159v1/GCF_001931595.1_ASM193159v1_genomic.fna.gz\n",
      "           => ‘GCF_001931595.1.fasta.gz’\n",
      "Resolving ftp.ncbi.nlm.nih.gov (ftp.ncbi.nlm.nih.gov)... 130.14.250.7, 2607:f220:41e:250::7\n",
      "Connecting to ftp.ncbi.nlm.nih.gov (ftp.ncbi.nlm.nih.gov)|130.14.250.7|:21... connected.\n",
      "Logging in as anonymous ... Logged in!\n",
      "==> SYST ... done.    ==> PWD ... done.\n",
      "==> TYPE I ... done.  ==> CWD (1) /genomes/all/GCF/001/931/595/GCF_001931595.1_ASM193159v1 ... done.\n",
      "==> SIZE GCF_001931595.1_ASM193159v1_genomic.fna.gz ... 1498326\n",
      "==> PASV ... done.    ==> RETR GCF_001931595.1_ASM193159v1_genomic.fna.gz ... done.\n",
      "Length: 1498326 (1.4M) (unauthoritative)\n",
      "\n",
      "GCF_001931595.1_ASM 100%[===================>]   1.43M  6.12MB/s    in 0.2s    \n",
      "\n",
      "2018-06-08 10:03:22 (6.12 MB/s) - ‘GCF_001931595.1.fasta.gz’ saved [1498326]\n",
      "\n"
     ]
    }
   ],
   "source": [
    "wget -O GCF_001478105.1.fasta.gz ftp://ftp.ncbi.nlm.nih.gov/genomes/all/GCF/001/478/105/GCF_001478105.1_Salmonella_enterica_CVM_N31384-SQ_v1.0/GCF_001478105.1_Salmonella_enterica_CVM_N31384-SQ_v1.0_genomic.fna.gz\n",
    "gunzip GCF_001478105.1.fasta.gz\n",
    "\n",
    "wget -O GCF_001931595.1.fasta.gz ftp://ftp.ncbi.nlm.nih.gov/genomes/all/GCF/001/931/595/GCF_001931595.1_ASM193159v1/GCF_001931595.1_ASM193159v1_genomic.fna.gz\n",
    "gunzip GCF_001931595.1.fasta.gz"
   ]
  },
  {
   "cell_type": "markdown",
   "metadata": {},
   "source": [
    "Now we have some files to work with:"
   ]
  },
  {
   "cell_type": "code",
   "execution_count": 2,
   "metadata": {},
   "outputs": [
    {
     "name": "stdout",
     "output_type": "stream",
     "text": [
      "GCF_001478105.1.fasta  GCF_001931595.1.fasta  staramr-tutorial.ipynb\n"
     ]
    }
   ],
   "source": [
    "ls"
   ]
  },
  {
   "cell_type": "markdown",
   "metadata": {},
   "source": [
    "## Step 2: Run staramr\n",
    "\n",
    "Now that we have some assembled genomes to work with, let's run `staramr`.\n",
    "\n",
    "First, lets check what version of databases we are using:"
   ]
  },
  {
   "cell_type": "code",
   "execution_count": 3,
   "metadata": {},
   "outputs": [
    {
     "name": "stdout",
     "output_type": "stream",
     "text": [
      "resfinder_db_dir              = /home/aaron/miniconda2/envs/jupyterlab/lib/python3.5/site-packages/staramr/databases/data/dist/resfinder\n",
      "resfinder_db_url              = https://bitbucket.org/genomicepidemiology/resfinder_db.git\n",
      "resfinder_db_commit           = dc33e2f9ec2c420f99f77c5c33ae3faa79c999f2\n",
      "resfinder_db_date             = Tue, 20 Mar 2018 16:49\n",
      "pointfinder_db_dir            = /home/aaron/miniconda2/envs/jupyterlab/lib/python3.5/site-packages/staramr/databases/data/dist/pointfinder\n",
      "pointfinder_db_url            = https://bitbucket.org/genomicepidemiology/pointfinder_db.git\n",
      "pointfinder_db_commit         = ba65c4d175decdc841a0bef9f9be1c1589c0070a\n",
      "pointfinder_db_date           = Fri, 06 Apr 2018 09:02\n",
      "pointfinder_gene_drug_version = 050218\n",
      "resfinder_gene_drug_version   = 050218\n"
     ]
    }
   ],
   "source": [
    "staramr db info"
   ]
  },
  {
   "cell_type": "markdown",
   "metadata": {},
   "source": [
    "Everything looks good there. Now, let's run `staramr`:"
   ]
  },
  {
   "cell_type": "code",
   "execution_count": 4,
   "metadata": {},
   "outputs": [
    {
     "name": "stdout",
     "output_type": "stream",
     "text": [
      "2018-06-08 10:03:35,000 INFO: --output-dir set. All files will be output to [out]\n",
      "2018-06-08 10:03:35,026 INFO: Making BLAST databases for input files\n",
      "2018-06-08 10:03:35,676 INFO: Scheduling blast for GCF_001478105.1.fasta\n",
      "2018-06-08 10:03:35,729 INFO: Scheduling blast for GCF_001931595.1.fasta\n",
      "2018-06-08 10:03:37,134 WARNING: No drug found for drug_class=sulphonamide, gene=sul1_2, accession=CP002151\n",
      "2018-06-08 10:03:38,260 INFO: Finished. Took 0.05 minutes.\n",
      "2018-06-08 10:03:38,261 INFO: Predicting AMR resistance phenotypes is enabled. The predictions are for microbiological resistance and *not* clinical resistance. These results are continually being improved and we welcome any feedback.\n",
      "2018-06-08 10:03:38,263 INFO: Writing resfinder to [out/resfinder.tsv]\n",
      "2018-06-08 10:03:38,264 INFO: Writing pointfinder to [out/pointfinder.tsv]\n",
      "2018-06-08 10:03:38,265 INFO: Writing summary to [out/summary.tsv]\n",
      "2018-06-08 10:03:38,265 INFO: Writing settings to [out/settings.txt]\n",
      "2018-06-08 10:03:38,266 INFO: Writing Excel to [out/results.xlsx]\n",
      "2018-06-08 10:03:38,426 INFO: BLAST hits are stored in [out/hits]\n"
     ]
    }
   ],
   "source": [
    "staramr search --pointfinder-organism salmonella -o out *.fasta"
   ]
  },
  {
   "cell_type": "markdown",
   "metadata": {},
   "source": [
    "There, that wasn't too long.\n",
    "\n",
    "## Step 3: Examine results\n",
    "\n",
    "Now, let's inspect some of the results. First, let's look at what files were produced:"
   ]
  },
  {
   "cell_type": "code",
   "execution_count": 5,
   "metadata": {},
   "outputs": [
    {
     "name": "stdout",
     "output_type": "stream",
     "text": [
      "\u001b[0m\u001b[01;34mhits\u001b[0m  pointfinder.tsv  resfinder.tsv  results.xlsx  settings.txt  summary.tsv\n"
     ]
    }
   ],
   "source": [
    "ls out/"
   ]
  },
  {
   "cell_type": "markdown",
   "metadata": {},
   "source": [
    "The __*.tsv__ files contain the primary results we're interested in. The **settings.txt** file contains all the settings used to run `staramr`. The **results.xlsx** file contains all the previous files as separate worksheets in an Excel file. And the **hits/** directory contains the AMR gene hits as FASTA files.\n",
    "\n",
    "Let's take a look at these files in turn.\n",
    "\n",
    "_Note that the command `column -s$'\\t' -t file.tsv` is used. This command aligns the columns and prints a table `-t` using a tab character as the delimiter `-s$'\\t'`._"
   ]
  },
  {
   "cell_type": "code",
   "execution_count": 6,
   "metadata": {},
   "outputs": [
    {
     "name": "stdout",
     "output_type": "stream",
     "text": [
      "Isolate ID       Genotype                                                                                 Predicted Phenotype\n",
      "GCF_001478105.1  blaCMY-2                                                                                 ampicillin, amoxicillin/clavulanic acid, cefoxitin, ceftriaxone\n",
      "GCF_001931595.1  aac(3)-IVa, aph(3')-Ia, aph(4)-Ia, blaCTX-M-65, dfrA14, floR, gyrA (D87Y), sul1, tet(A)  gentamicin, kanamycin, hygromicin, ampicillin, ceftriaxone, trimethoprim, chloramphenicol, ciprofloxacin I/R, nalidixic acid, unknown[sul1_2_CP002151], tetracycline\n"
     ]
    }
   ],
   "source": [
    "column -s$'\\t' -t out/summary.tsv"
   ]
  },
  {
   "cell_type": "markdown",
   "metadata": {},
   "source": [
    "Let's try and split up the table a bit to display better in GitHub."
   ]
  },
  {
   "cell_type": "code",
   "execution_count": 7,
   "metadata": {},
   "outputs": [
    {
     "name": "stdout",
     "output_type": "stream",
     "text": [
      "Isolate ID       Genotype\n",
      "GCF_001478105.1  blaCMY-2\n",
      "GCF_001931595.1  aac(3)-IVa, aph(3')-Ia, aph(4)-Ia, blaCTX-M-65, dfrA14, floR, gyrA (D87Y), sul1, tet(A)\n"
     ]
    }
   ],
   "source": [
    "# Show only Genotype\n",
    "cut -f 1,2 out/summary.tsv | column -s$'\\t' -t"
   ]
  },
  {
   "cell_type": "code",
   "execution_count": 8,
   "metadata": {},
   "outputs": [
    {
     "name": "stdout",
     "output_type": "stream",
     "text": [
      "Isolate ID       Predicted Phenotype\n",
      "GCF_001478105.1  ampicillin, amoxicillin/clavulanic acid, cefoxitin, ceftriaxone\n",
      "GCF_001931595.1  gentamicin, kanamycin, hygromicin, ampicillin, ceftriaxone, trimethoprim, chloramphenicol, ciprofloxacin I/R, nalidixic acid, unknown[sul1_2_CP002151], tetracycline\n"
     ]
    }
   ],
   "source": [
    "# Show only Predicted Phenotype\n",
    "cut -f 1,3 out/summary.tsv | column -s$'\\t' -t"
   ]
  },
  {
   "cell_type": "markdown",
   "metadata": {},
   "source": [
    "This file **summary.tsv** contains a summary of all the results in a single table, one genome per line. According to these results, the genomes *GCF_001478105.1* and *GCF_001931595.1* contain the listed AMR genes under **Genotype** and are resistant to the listed drugs under **Predicted Phenotype**. This also shows off the result you'll get if a gene to drug mapping is missing from our database, mainly you'll see `unknown[sul1_2_CP002151]`, which means that gene **sul1_2_CP002151** is missing an entry. This database is still under development so some gene to drug entries may be missing. This also depends on the exact versions of the ResFinder and PointFinder databases you have installed."
   ]
  },
  {
   "cell_type": "code",
   "execution_count": 9,
   "metadata": {},
   "outputs": [
    {
     "name": "stdout",
     "output_type": "stream",
     "text": [
      "Isolate ID       Gene         Predicted Phenotype                                              %Identity  %Overlap  HSP Length/Total Length  Contig                  Start   End     Accession\n",
      "GCF_001478105.1  blaCMY-2     ampicillin, amoxicillin/clavulanic acid, cefoxitin, ceftriaxone  100.00     100.00    1146/1146                ref|NZ_JYVD01000056.1|  25020   26165   X91840\n",
      "GCF_001931595.1  aac(3)-IVa   gentamicin                                                       99.87      100.00    786/786                  ref|NZ_CP016411.1|      292669  291885  X01385\n",
      "GCF_001931595.1  aph(3')-Ia   kanamycin                                                        99.39      99.75     814/816                  ref|NZ_CP016411.1|      300747  301560  V00359\n",
      "GCF_001931595.1  aph(4)-Ia    hygromicin                                                       100.00     100.00    1026/1026                ref|NZ_CP016411.1|      291664  290639  V01499\n",
      "GCF_001931595.1  blaCTX-M-65  ampicillin, ceftriaxone                                          100.00     100.00    876/876                  ref|NZ_CP016411.1|      276137  277012  GQ456158\n",
      "GCF_001931595.1  dfrA14       trimethoprim                                                     99.79      100.00    483/483                  ref|NZ_CP016411.1|      295753  296235  DQ388123\n",
      "GCF_001931595.1  floR         chloramphenicol                                                  98.19      99.92     1214/1215                ref|NZ_CP016411.1|      282827  284040  AF118107\n",
      "GCF_001931595.1  sul1         unknown[sul1_2_CP002151]                                         100.00     100.00    927/927                  ref|NZ_CP016411.1|      159069  159995  CP002151\n",
      "GCF_001931595.1  tet(A)       tetracycline                                                     100.00     100.00    1200/1200                ref|NZ_CP016411.1|      172512  173711  AJ517790\n"
     ]
    }
   ],
   "source": [
    "# Show all columns\n",
    "column -s$'\\t' -t out/resfinder.tsv"
   ]
  },
  {
   "cell_type": "code",
   "execution_count": 10,
   "metadata": {},
   "outputs": [
    {
     "name": "stdout",
     "output_type": "stream",
     "text": [
      "Isolate ID       Gene         %Identity  %Overlap  HSP Length/Total Length  Contig\n",
      "GCF_001478105.1  blaCMY-2     100.00     100.00    1146/1146                ref|NZ_JYVD01000056.1|\n",
      "GCF_001931595.1  aac(3)-IVa   99.87      100.00    786/786                  ref|NZ_CP016411.1|\n",
      "GCF_001931595.1  aph(3')-Ia   99.39      99.75     814/816                  ref|NZ_CP016411.1|\n",
      "GCF_001931595.1  aph(4)-Ia    100.00     100.00    1026/1026                ref|NZ_CP016411.1|\n",
      "GCF_001931595.1  blaCTX-M-65  100.00     100.00    876/876                  ref|NZ_CP016411.1|\n",
      "GCF_001931595.1  dfrA14       99.79      100.00    483/483                  ref|NZ_CP016411.1|\n",
      "GCF_001931595.1  floR         98.19      99.92     1214/1215                ref|NZ_CP016411.1|\n",
      "GCF_001931595.1  sul1         100.00     100.00    927/927                  ref|NZ_CP016411.1|\n",
      "GCF_001931595.1  tet(A)       100.00     100.00    1200/1200                ref|NZ_CP016411.1|\n"
     ]
    }
   ],
   "source": [
    "# Show a subset of columns\n",
    "cut -f 1,2,4,5,6,7 out/resfinder.tsv | column -s$'\\t' -t"
   ]
  },
  {
   "cell_type": "markdown",
   "metadata": {},
   "source": [
    "This shows all the BLAST hits to the **ResFinder** database, each hit on a single line."
   ]
  },
  {
   "cell_type": "code",
   "execution_count": 11,
   "metadata": {},
   "outputs": [
    {
     "name": "stdout",
     "output_type": "stream",
     "text": [
      "Isolate ID       Gene         Predicted Phenotype                Type   Position  Mutation             %Identity  %Overlap  HSP Length/Total Length  Contig              Start    End\n",
      "GCF_001931595.1  gyrA (D87Y)  ciprofloxacin I/R, nalidixic acid  codon  87        GAC -> TAC (D -> Y)  99.43      100.00    2637/2637                ref|NZ_CP016410.1|  1597907  1600543\n"
     ]
    }
   ],
   "source": [
    "# Show all columns\n",
    "column -s$'\\t' -t out/pointfinder.tsv"
   ]
  },
  {
   "cell_type": "code",
   "execution_count": 12,
   "metadata": {},
   "outputs": [
    {
     "name": "stdout",
     "output_type": "stream",
     "text": [
      "Isolate ID       Gene         Position  Mutation             %Identity  %Overlap  Contig\n",
      "GCF_001931595.1  gyrA (D87Y)  87        GAC -> TAC (D -> Y)  99.43      100.00    ref|NZ_CP016410.1|\n"
     ]
    }
   ],
   "source": [
    "# Show a subset of columns\n",
    "cut -f 1,2,5,6,7,8,10 out/pointfinder.tsv | column -s$'\\t' -t"
   ]
  },
  {
   "cell_type": "markdown",
   "metadata": {},
   "source": [
    "This shows all the aquired point mutations leading to antimicrobial resistance, one per line."
   ]
  },
  {
   "cell_type": "code",
   "execution_count": 13,
   "metadata": {},
   "outputs": [
    {
     "name": "stdout",
     "output_type": "stream",
     "text": [
      "command_line                  = /home/aaron/miniconda2/envs/jupyterlab/bin/staramr search --pointfinder-organism salmonella -o out GCF_001478105.1.fasta GCF_001931595.1.fasta\n",
      "version                       = 0.2.0\n",
      "start_time                    = 2018-06-08 10:03:35\n",
      "end_time                      = 2018-06-08 10:03:38\n",
      "total_minutes                 = 0.05\n",
      "resfinder_db_dir              = /home/aaron/miniconda2/envs/jupyterlab/lib/python3.5/site-packages/staramr/databases/data/dist/resfinder\n",
      "resfinder_db_url              = https://bitbucket.org/genomicepidemiology/resfinder_db.git\n",
      "resfinder_db_commit           = dc33e2f9ec2c420f99f77c5c33ae3faa79c999f2\n",
      "resfinder_db_date             = Tue, 20 Mar 2018 16:49\n",
      "pointfinder_db_dir            = /home/aaron/miniconda2/envs/jupyterlab/lib/python3.5/site-packages/staramr/databases/data/dist/pointfinder\n",
      "pointfinder_db_url            = https://bitbucket.org/genomicepidemiology/pointfinder_db.git\n",
      "pointfinder_db_commit         = ba65c4d175decdc841a0bef9f9be1c1589c0070a\n",
      "pointfinder_db_date           = Fri, 06 Apr 2018 09:02\n",
      "pointfinder_gene_drug_version = 050218\n",
      "resfinder_gene_drug_version   = 050218\n"
     ]
    }
   ],
   "source": [
    "cat out/settings.txt"
   ]
  },
  {
   "cell_type": "markdown",
   "metadata": {},
   "source": [
    "This shows the command-line options used to run `staramr`, runtime, as well as the **ResFinder** and **PointFinder** database versions."
   ]
  },
  {
   "cell_type": "code",
   "execution_count": 14,
   "metadata": {},
   "outputs": [
    {
     "name": "stdout",
     "output_type": "stream",
     "text": [
      "pointfinder_GCF_001931595.1.fasta  resfinder_GCF_001931595.1.fasta\n",
      "resfinder_GCF_001478105.1.fasta\n"
     ]
    }
   ],
   "source": [
    "ls out/hits"
   ]
  },
  {
   "cell_type": "markdown",
   "metadata": {},
   "source": [
    "This directory contains all the BLAST hits that were found in the `out/{resfinder,pointfinder}.tsv` files, in FASTA format."
   ]
  },
  {
   "cell_type": "code",
   "execution_count": 15,
   "metadata": {},
   "outputs": [
    {
     "name": "stdout",
     "output_type": "stream",
     "text": [
      ">aph(3')-Ia_1_V00359 isolate: GCF_001931595.1, contig: ref|NZ_CP016411.1|, contig_start: 300747, contig_end: 301560, resistance_gene_start: 1, resistance_gene_end: 814, hsp/length: 814/816, pid: 99.39%, plength: 99.75%\n",
      "ATGAGCCATATTCAACGGGAAACGTCTTGCTCGAGGCCGCGATTAAATTCCAACCTGGAT\n",
      "GCTGATTTATATGGGTATAGATGGGCTCGCGATAATGTCGGGCAATCAGGTGCGACAATC\n",
      "TATCGATTGTATGGGAAGCCCAATGCGCCAGAGTTGTTTCTGAAACATGGCAAAGGTAGC\n",
      "GTTGCCAATGATGTTACAGATGAGATGGTCAGACTAAACTGGCTGACGGCATTTATGCCT\n",
      "CTTCCGACCATCAAGCATTTTATCCGTACTCCTGATGATGCATGGTTACTCACCACTGCG\n",
      "ATCCCCGGGAAAACAGCATTCCAGGTATTAGAAGAATATCCTGATTCAGGTGAAAATATT\n",
      "GTTGATGCGCTGGCAGTGTTCCTGCGCCGGTTGCATTCGATTCCTGTTTGTAATTGTCCT\n",
      "TTTAACAGCGATCGCGTATTTCGTCTCGCTCAGGCGCAATCACGAATGAATAACGGTTTG\n",
      "GTTGATGCTAGTGATTTTGATGACGAGCGTAATGGCTGGCCTGTTGAACAAGTCTGGAAA\n"
     ]
    }
   ],
   "source": [
    "head out/hits/resfinder_GCF_001931595.1.fasta"
   ]
  },
  {
   "cell_type": "markdown",
   "metadata": {},
   "source": [
    "## Step 4: Validation\n",
    "\n",
    "Let's look back at our **summary.tsv** file."
   ]
  },
  {
   "cell_type": "code",
   "execution_count": 16,
   "metadata": {},
   "outputs": [
    {
     "name": "stdout",
     "output_type": "stream",
     "text": [
      "Isolate ID       Genotype\n",
      "GCF_001478105.1  blaCMY-2\n",
      "GCF_001931595.1  aac(3)-IVa, aph(3')-Ia, aph(4)-Ia, blaCTX-M-65, dfrA14, floR, gyrA (D87Y), sul1, tet(A)\n"
     ]
    }
   ],
   "source": [
    "# Show only Genotype\n",
    "cut -f 1,2 out/summary.tsv | column -s$'\\t' -t"
   ]
  },
  {
   "cell_type": "code",
   "execution_count": 17,
   "metadata": {},
   "outputs": [
    {
     "name": "stdout",
     "output_type": "stream",
     "text": [
      "Isolate ID       Predicted Phenotype\n",
      "GCF_001478105.1  ampicillin, amoxicillin/clavulanic acid, cefoxitin, ceftriaxone\n",
      "GCF_001931595.1  gentamicin, kanamycin, hygromicin, ampicillin, ceftriaxone, trimethoprim, chloramphenicol, ciprofloxacin I/R, nalidixic acid, unknown[sul1_2_CP002151], tetracycline\n"
     ]
    }
   ],
   "source": [
    "# Show only Predicted Phenotype\n",
    "cut -f 1,3 out/summary.tsv | column -s$'\\t' -t"
   ]
  },
  {
   "cell_type": "markdown",
   "metadata": {},
   "source": [
    "We can validate these results by comparing them to this drugs and AMR resistances available from NCBI.  Let's take a look:\n",
    "\n",
    "### GCF_001478105.1\n",
    "\n",
    "#### Genotypes\n",
    "\n",
    "For **GCF_001478105.1** we can find the detected AMR genes by NCBI at <https://www.ncbi.nlm.nih.gov/pathogens/isolates/#/search/GCA_001478105.1>.  From here we see that `blaCMY-2` is listed under the **AMR geneotypes** column, which exactly matches what we see from `staramr`.\n",
    "\n",
    "#### Predicted Phenotypes\n",
    "\n",
    "The phenotypes are also in this same table under **AST Phenotypes** (or at <https://www.ncbi.nlm.nih.gov/biosample/SAMN02699230/>). This contains the list: `amoxicillin-clavulanic acid, ampicillin, cefoxitin, ceftiofur, ceftriaxone`. Comparing to the results from `staramr` we can see that `staramr` is missing `ceftiofur`.\n",
    "\n",
    "### GCF_001931595.1\n",
    "\n",
    "#### Genotypes\n",
    "\n",
    "For **GCA_001931595.1** we can find the detected AMR genes by NCBI at <https://www.ncbi.nlm.nih.gov/pathogens/isolates/#/search/GCA_001931595.1>.  From here we see that `aac(3)-IV, aph(3')-Ia, aph(4)-Ia, blaCTX-M-65, dfrA14, floR, sul1, tet(A)` are listed under the **AMR geneotypes** column. When compared to `staramr`, it looks like `staramr` has one additional gene, mainly `gyrA (D87Y)`, which is a point mutation resistance.\n",
    "\n",
    "#### Predicted Phenotypes\n",
    "\n",
    "The phenotypes are also in this same table under **AST Phenotypes** (or at <https://www.ncbi.nlm.nih.gov/biosample/SAMN03988471>). This contains the list (when including the *Intermediate* category): `ampicillin, ceftiofur, ceftriaxone, chloramphenicol, nalidixic acid, tetracycline, ciprofloxacin, gentamicin`. Comparing to the results from `staramr` we can see that `staramr` is missing `ceftiofur`, and `staramr` additionally includes `kanamycin, hygromicin, trimethoprim`.\n",
    "\n",
    "Overall, `staramr` matches pretty closely to what is found on NCBI for these genomes, but the differences observed here highlights the need for additional testing and development of the software and databases, which is an ongoing effort."
   ]
  }
 ],
 "metadata": {
  "kernelspec": {
   "display_name": "Bash",
   "language": "bash",
   "name": "bash"
  },
  "language_info": {
   "codemirror_mode": "shell",
   "file_extension": ".sh",
   "mimetype": "text/x-sh",
   "name": "bash"
  }
 },
 "nbformat": 4,
 "nbformat_minor": 2
}
